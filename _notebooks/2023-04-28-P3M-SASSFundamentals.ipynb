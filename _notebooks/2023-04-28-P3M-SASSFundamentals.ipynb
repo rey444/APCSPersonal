{
 "cells": [
  {
   "attachments": {},
   "cell_type": "markdown",
   "metadata": {},
   "source": [
    "# P3-M 4/28 Introduction to SASS\n",
    "> Understanding the fundamental aspects of SASS\n",
    "- toc: true\n",
    "- badges: false\n",
    "- comments: true\n",
    "- author: Tirth T, Haoxion T, Yuri B, Allan L, Jishnu S  \n",
    "- categories: [student]\n",
    "- type: ap \n",
    "- week: 31"
   ]
  },
  {
   "cell_type": "markdown",
   "metadata": {},
   "source": [
    "# What is SASS?\n",
    "\n",
    "> #### Sass is a preprocessor language that's interpreted into CSS. A preprocessor language takes input data and converts it to an output that's used as input by another program. This means when you run Sass code, you're actually converting your code to CSS. That CSS code output is then used directly by a browser.\n",
    "![](https://encrypted-tbn0.gstatic.com/images?q=tbn:ANd9GcTMd7eiGMX9FwRLC0uJTDewSjw_7_WvCF4ABLdwztLrCnPEXrqW0gG-pH8eT-fYPLlghjY&usqp=CAU)"
   ]
  },
  {
   "cell_type": "markdown",
   "metadata": {},
   "source": [
    "# Variables\n",
    "\n",
    "> #### Variables in CSS preprocessors such as Sass allow you to store information that you can reuse in your stylesheet, such as font stacks, colors, or any other CSS value you anticipate needing. The $ symbol is used in Sass to designate a variable. \n",
    "Below is an example:"
   ]
  },
  {
   "cell_type": "markdown",
   "metadata": {},
   "source": [
    "## Sass\n",
    "```\n",
    "$font-stack: Helvetica, sans-serif;\n",
    "$primary-color: #333;\n",
    "\n",
    "body {\n",
    "  font: 100% $font-stack;\n",
    "  color: $primary-color;\n",
    "}\n",
    "```\n",
    "\n",
    "## Css\n",
    "```\n",
    "body {\n",
    "  font: 100% Helvetica, sans-serif;\n",
    "  color: #333;\n",
    "}\n",
    "```\n",
    "> #### Once Sass is processed, it generates standard CSS by inserting the values we assigned to variables such as ``$font-stack`` and ``$primary-color``. This functionality can prove invaluable when dealing with brand colors and ensuring their consistency throughout the website.\n",
    "\n"
   ]
  },
  {
   "cell_type": "markdown",
   "metadata": {},
   "source": [
    "# Nesting\n",
    "\n",
    "> #### While composing HTML, you might have observed that it exhibits an explicit nested and visual structure. However, CSS lacks such a hierarchy. On the contrary, Sass allows you to nest your CSS selectors in a manner that aligns with the visual hierarchy of your HTML. Nonetheless, excessive nesting may generate overly qualified CSS, which can be challenging to maintain and is usually considered undesirable.\n",
    "\n",
    "> #### Keeping this in consideration, here's a sample of common styles for a website's navigation:\n",
    "\n",
    "\n",
    "## Sass\n",
    "\n",
    "```\n",
    "nav {\n",
    "  ul {\n",
    "    margin: 0;\n",
    "    padding: 0;\n",
    "    list-style: none;\n",
    "  }\n",
    "\n",
    "  li { display: inline-block; }\n",
    "\n",
    "  a {\n",
    "    display: block;\n",
    "    padding: 6px 12px;\n",
    "    text-decoration: none;\n",
    "  }\n",
    "}\n",
    "```\n",
    "\n",
    "## Css\n",
    "\n",
    "```\n",
    "nav ul {\n",
    "  margin: 0;\n",
    "  padding: 0;\n",
    "  list-style: none;\n",
    "}\n",
    "nav li {\n",
    "  display: inline-block;\n",
    "}\n",
    "nav a {\n",
    "  display: block;\n",
    "  padding: 6px 12px;\n",
    "  text-decoration: none;\n",
    "}\n",
    "```\n",
    "\n",
    "> #### As you observe, the ul, li, and a selectors are enclosed within the nav selector. This approach is highly beneficial in arranging your CSS and enhancing its readability.\n",
    "\n"
   ]
  },
  {
   "cell_type": "markdown",
   "metadata": {},
   "source": [
    "# Modules\n",
    "\n",
    "> #### It is not mandatory to write all of your Sass code in a single file. You can divide it into multiple files as per your preference by utilizing the \"@use\" rule. This rule imports another Sass file as a module, enabling you to reference its variables, mixins, and functions in your Sass code using a namespace derived from the file name. Additionally, by using a file, the CSS it produces will also be included in the compiled output.\n",
    "\n",
    "## Sass\n",
    "\n",
    "```\n",
    "// _base.scss\n",
    "$font-stack: Helvetica, sans-serif;\n",
    "$primary-color: #333;\n",
    "\n",
    "body {\n",
    "  font: 100% $font-stack;\n",
    "  color: $primary-color;\n",
    "}\n",
    "```\n",
    "\n",
    "```\n",
    "// styles.scss\n",
    "@use 'base';\n",
    "\n",
    ".inverse {\n",
    "  background-color: base.$primary-color;\n",
    "  color: white;\n",
    "}\n",
    "```\n",
    "\n",
    "## Css\n",
    "\n",
    "```\n",
    "body {\n",
    "  font: 100% Helvetica, sans-serif;\n",
    "  color: #333;\n",
    "}\n",
    "\n",
    ".inverse {\n",
    "  background-color: #333;\n",
    "  color: white;\n",
    "}\n",
    "```\n",
    "\n",
    "> #### Observe that in the styles.scss file, we are employing \"@use 'base';\". If you utilize a file, there's no requirement to add the file extension. Sass is intelligent enough to comprehend it by itself."
   ]
  },
  {
   "attachments": {},
   "cell_type": "markdown",
   "metadata": {},
   "source": [
    "#  SCSS vs. CSS \n",
    "> Understanding the differences between SCSS and CSS\n",
    "\n",
    "## What is CSS\n",
    "> #### CSS is the default language that most programmers use to style a webpage. It is one of the 3 fundamental web technologies along with HTML and JavaScript. HTML manages the structure, JavaScript makes pages interactive, and CSS changes the style by taking a markup language like HTML and describes how it should be presented to the user.  \n",
    "\n",
    "```\n",
    "body{\n",
    "color: #0000FF;\n",
    "font-family: Ariel, sans-serif;\n",
    "font-size: 16px;\n",
    "}\n",
    "```\n",
    "\n",
    "This is an example of CSS that can be used to change body text of an HTML document\n",
    "\n",
    "Can you guess what its changing style of the text to?\n",
    "\n",
    "## What is SCSS\n",
    "> #### SCSS is short for Sassy CSS. What SCSS does is very similar to CSS but the difference comes with the fact that SCSS extends the functionality of CSS while also making it simpler. What this allows us to do is it enables us to things like nested styling, functions, mixins, variables, inheritance (more on these later) and so on. \n",
    "\n",
    "```\n",
    "$blue: #0000FF;\n",
    "body{\n",
    "color: $blue;\n",
    "font-family: Ariel, sans-serif;\n",
    "font-size: 16px;\n",
    "}\n",
    "```\n",
    "\n",
    "This example is doing the same thing as the other code segment above but the difference being that here we defined the color as $blue which makes it much easier for us to recall later on. In fact, we have done this before, if you have been using the dark mode/midnight theme then go ahead and navigate your your _sass folder and check out the dark-mode.scss and you'll see something similar to the example above\n",
    "\n",
    "## So which one is better to use?\n",
    "> #### CSS tends to be better for really simple styling where not many complex or nested styles are required and small projects that doesn't require a lot of customization. SCSS on the other hand is very good for more complex styling and working with a project with more than one page where maybe lots of customization is needed. "
   ]
  },
  {
   "attachments": {},
   "cell_type": "markdown",
   "metadata": {},
   "source": [
    "#  Functions in SASS\n",
    "> Understanding the fundamental aspects of functions in SASS\n",
    "\n",
    "## SASS functions\n",
    "\n",
    "> #### Sass Functions allow you to define complex calculations and transformations that can be used throughout your stylesheet.\n",
    "\n",
    "## What are SASS functions?\n",
    "\n",
    "> #### Functions are a powerful feature in SASS that allow you to perform complex operations on values, manipulate data, and generate content dynamically. SASS functions can be used to perform arithmetic operations, manipulate colors, work with strings, and more.\n",
    "\n",
    "> #### Functions in SASS are similar to functions in programming languages, but they can be used within SASS stylesheets to generate CSS code dynamically.\n",
    "\n",
    "## Using Built-in Functions\n",
    "\n",
    "> #### SASS provides a variety of built-in functions that you can use to perform operations like math, color manipulation, string manipulation, and more. Here are some examples of built-in functions and how to use them.\n",
    "\n",
    "## Math Functions\n",
    "\n",
    "> #### SASS provides a number of math functions that allow you to perform arithmetic operations on values. Here are some examples:\n"
   ]
  },
  {
   "cell_type": "code",
   "execution_count": null,
   "metadata": {
    "vscode": {
     "languageId": "plaintext"
    }
   },
   "outputs": [],
   "source": [
    "\n",
    ".round(1.2);          // returns 1\n",
    ".ceil(1.2);           // returns 2\n",
    ".floor(1.2);          // returns 1\n",
    ".abs(-1.2);           // returns 1.2\n",
    ".min(1, 2, 3);        // returns 1\n",
    ".max(1, 2, 3);        // returns 3\n",
    ".random(1, 100);      // returns a random number between 1 and 100\n"
   ]
  },
  {
   "cell_type": "code",
   "execution_count": null,
   "metadata": {
    "vscode": {
     "languageId": "plaintext"
    }
   },
   "outputs": [],
   "source": [
    "## Color Functions\n",
    "\n",
    "> #### SASS provides a variety of color functions that allow you to manipulate colors. Here are some examples:"
   ]
  },
  {
   "cell_type": "code",
   "execution_count": null,
   "metadata": {
    "vscode": {
     "languageId": "plaintext"
    }
   },
   "outputs": [],
   "source": [
    ".lighten(#007fff, 20%);       // returns a lighter shade of blue\n",
    ".darken(#007fff, 20%);        // returns a darker shade of blue\n",
    ".opacify(#007fff, 0.2);       // makes the color more opaque\n",
    ".transparentize(#007fff, 0.2); // makes the color more transparent\n",
    ".mix(#007fff, #ff0000, 50%);  // returns a mix of two colors"
   ]
  },
  {
   "cell_type": "markdown",
   "metadata": {},
   "source": [
    "## String Functions\n",
    "\n",
    "> #### SASS provides a variety of string functions that allow you to manipulate strings. Here are some examples:"
   ]
  },
  {
   "cell_type": "code",
   "execution_count": null,
   "metadata": {
    "vscode": {
     "languageId": "plaintext"
    }
   },
   "outputs": [],
   "source": [
    ".to-upper-case(\"hello world\");  // returns \"HELLO WORLD\"\n",
    ".to-lower-case(\"HELLO WORLD\");  // returns \"hello world\"\n",
    ".str-index(\"hello world\", \"world\"); // returns the index of the first occurrence of \"world\"\n",
    ".str-insert(\"hello\", \" world\", 5);  // inserts \" world\" into \"hello\" at position 5"
   ]
  },
  {
   "cell_type": "markdown",
   "metadata": {},
   "source": [
    "## Creating Custom Functions\n",
    "\n",
    "> #### In addition to using built-in functions, you can also create your own functions in SASS using the ``@function`` directive. Functions take input values, perform calculations, and return a result. Here's an example of a simple function that calculates the area of a rectangle:"
   ]
  },
  {
   "cell_type": "code",
   "execution_count": null,
   "metadata": {
    "vscode": {
     "languageId": "plaintext"
    }
   },
   "outputs": [],
   "source": [
    "@function rectangle-area($width, $height) {\n",
    "  @return $width * $height;\n",
    "}\n",
    "\n",
    "// Usage:\n",
    "$area: rectangle-area(10px, 20px); // Returns 200px"
   ]
  },
  {
   "attachments": {},
   "cell_type": "markdown",
   "metadata": {},
   "source": [
    "> #### Custom functions can be very powerful, and can be used to create reusable pieces of code that can be used throughout your stylesheets.\n",
    "\n",
    "## Conclusion\n",
    "\n",
    "> #### SASS functions are a powerful feature that allow you to perform complex operations on values, manipulate data, and generate content dynamically. By using built-in functions and creating your own custom functions, you can greatly extend the capabilities of your SASS stylesheets."
   ]
  },
  {
   "attachments": {},
   "cell_type": "markdown",
   "metadata": {},
   "source": [
    "# Examples with mixins"
   ]
  },
  {
   "cell_type": "code",
   "execution_count": null,
   "metadata": {
    "vscode": {
     "languageId": "plaintext"
    }
   },
   "outputs": [],
   "source": [
    "// example of @mixin\n",
    "@mixin button {\n",
    "  width: auto;\n",
    "  height: auto;\n",
    "  border-radius: 10px;\n",
    "  background-color: #21807c;\n",
    "  border: 3px solid black;\n",
    "  font-size: 1.5em;\n",
    "\n",
    "  display: flex;\n",
    "  justify-content: center;\n",
    "  align-items: center;\n",
    "\n",
    "  grid-column: span 1;\n",
    "  grid-row: span 1;\n",
    "\n",
    "  // creates smooth animation effect\n",
    "  transition: all 0.5s; \n",
    "}\n",
    "\n",
    "// default button theme for calculator and stopwatch buttons. Both will follow the same button format\n",
    ".button {\n",
    "    // uses the scss from the @mixin\n",
    "  @include button;\n",
    "}\n",
    "\n",
    "/* styling for the calculator clear button */\n",
    ".calculator-button-clear {\n",
    "    // @extend inherits .button and then changes the background color from .button\n",
    "  @extend .button;\n",
    "  background-color: #e68b1c;\n",
    "}\n",
    "\n",
    "/* styling for the calculator equals button */\n",
    ".calculator-button-equals {\n",
    "    // another @extend inherits .button and then changes the background color from .button\n",
    "  @extend .button;\n",
    "  background-color: #e70f0f;\n",
    "}"
   ]
  }
 ],
 "metadata": {
  "kernelspec": {
   "display_name": "Python 3.9.12 ('base')",
   "language": "python",
   "name": "python3"
  },
  "language_info": {
   "name": "python",
   "version": "3.9.12"
  },
  "orig_nbformat": 4,
  "vscode": {
   "interpreter": {
    "hash": "eebbb108244c1ba77f1cb415be6e9567dfea2d09567dcc4fbd86eba351ce5445"
   }
  }
 },
 "nbformat": 4,
 "nbformat_minor": 2
}
