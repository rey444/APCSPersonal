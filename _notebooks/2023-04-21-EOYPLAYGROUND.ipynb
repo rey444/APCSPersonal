{
 "cells": [
  {
   "attachments": {},
   "cell_type": "markdown",
   "metadata": {},
   "source": [
    "# P4-M 4/24 Big Idea 3\n",
    "> Lesson about Big Idea 3\n",
    "author: Finn, Edwin, Zeen, Gene, James, Kush, Luka\n",
    "toc: true\n",
    "comments: true\n",
    "week: 31\n",
    "type: ap\n",
    "categories: [student]\n",
    "layout: base"
   ]
  },
  {
   "attachments": {},
   "cell_type": "markdown",
   "metadata": {},
   "source": [
    "## Objectives\n",
    "- Master the concepts of iteration, list, 2d-arrays, Dictonaries, and APIs"
   ]
  },
  {
   "attachments": {},
   "cell_type": "markdown",
   "metadata": {},
   "source": [
    "## Vocab\n",
    "- **Iteration**: A process that repates itself\n",
    "- **Array**: Sometimes called a list, can keep strings and intergers inside it\n",
    "- **Mutable**:  the ability to be changed or modified \n",
    "- **Inseration**: Inserting a new value into a Dictionary\n",
    "- **Deletion**: Deleting a value inside of a Dictionary\n",
    "- **Key**: A Singular identifier that is associated with a certin value inside a Dictionary\n",
    "- **API**: Application programming interface, an external program that can be accessed for data"
   ]
  },
  {
   "attachments": {},
   "cell_type": "markdown",
   "metadata": {},
   "source": [
    "## Q1: 2D Array Manipulation\n",
    "> Pizza API: Kush Sirohi\n",
    "\n",
    "- What are some examples of 2d Arrays\n",
    "- \n",
    "- What is a modern day game that could be classified as a 2D array\n",
    "- "
   ]
  },
  {
   "cell_type": "code",
   "execution_count": null,
   "metadata": {},
   "outputs": [],
   "source": [
    "## Show basic CRUD METHODS, and code about the project\n",
    "\n"
   ]
  },
  {
   "cell_type": "code",
   "execution_count": null,
   "metadata": {
    "vscode": {
     "languageId": "javascript"
    }
   },
   "outputs": [],
   "source": [
    "// Show how the POST DELETE UPDATE READ with javascript"
   ]
  },
  {
   "attachments": {},
   "cell_type": "markdown",
   "metadata": {},
   "source": [
    "## Q2: Iteration\n",
    "> Robot Game: Finn Carpenter\n",
    "- What is iteration shown in the code segment\n",
    "- "
   ]
  },
  {
   "cell_type": "code",
   "execution_count": null,
   "metadata": {
    "vscode": {
     "languageId": "javascript"
    }
   },
   "outputs": [],
   "source": [
    "// Javascript behined the robot\n",
    "function run() {\n",
    "    UPinput = parseInt(document.getElementById(\"up\").value);\n",
    "    DOWNinput = parseInt(document.getElementById(\"down\").value);\n",
    "    LEFTinput = parseInt(document.getElementById(\"left\").value);\n",
    "    RIGHTinput = parseInt(document.getElementById(\"right\").value);\n",
    "    for (let i = 0; i < UPinput; i++) {\n",
    "        setTimeout(up, 800);\n",
    "    }\n",
    "    for (let i = 0; i < DOWNinput; i++) {\n",
    "        setTimeout(down, 800);\n",
    "    }\n",
    "    for (let i = 0; i < LEFTinput; i++) {\n",
    "        setTimeout(left, 800);\n",
    "    }\n",
    "    for (let i = 0; i < RIGHTinput; i++) {\n",
    "        setTimeout(right, 800);\n",
    "    }\n",
    "}\n",
    "\n",
    "\n",
    "function right() {\n",
    "    squareX += squareSize;\n",
    "    // Check if the square hits the right wall\n",
    "    if (squareX + squareSize > canvasWidth) {\n",
    "        squareX = canvasWidth - squareSize;\n",
    "    }\n",
    "}\n",
    "\n",
    "function left() {\n",
    "    squareX -= squareSize;\n",
    "    // Check if the square hits the left wall\n",
    "    if (squareX < 0) {\n",
    "        squareX = 0;\n",
    "    }\n",
    "}\n",
    "\n",
    "function up() {\n",
    "    squareY -= squareSize;\n",
    "    // Check if the square hits the top wall\n",
    "    if (squareY < 0) {\n",
    "        squareY = 0;\n",
    "    }\n",
    "}\n",
    "\n",
    "function down() {\n",
    "    squareY += squareSize;\n",
    "    // Check if the square hits the bottom wall\n",
    "    if (squareY + squareSize > canvasHeight) {\n",
    "        squareY = canvasHeight - squareSize;\n",
    "    }\n",
    "}"
   ]
  },
  {
   "attachments": {},
   "cell_type": "markdown",
   "metadata": {},
   "source": [
    "## Q3: List and Dictonaries\n",
    "> Edwin\n",
    "- Unscramble Game\n",
    "- Question\n"
   ]
  },
  {
   "cell_type": "code",
   "execution_count": null,
   "metadata": {},
   "outputs": [],
   "source": [
    "# Explain Code behined scramble"
   ]
  },
  {
   "cell_type": "code",
   "execution_count": null,
   "metadata": {
    "vscode": {
     "languageId": "javascript"
    }
   },
   "outputs": [],
   "source": [
    "// Some frontend Javascript about the code too"
   ]
  },
  {
   "attachments": {},
   "cell_type": "markdown",
   "metadata": {},
   "source": [
    "# Hacks\n",
    "\n",
    "\n",
    "## General 0.15\n",
    "- Answer all questions\n",
    "\n",
    "## Iteration 0.25\n",
    "- Get to level 5\n",
    "- Make your own \"move function\" (can be in javascript or python)\n",
    "    - visulize your code mat get you more point (not just in console)\n",
    "\n",
    "## 2D array 0.25\n",
    "- Create your own database with a topic (can be one database for the group)\n",
    "    - All CRUD methods\n",
    "    - explain how it shows 2D Arrays\n",
    "    - Extra points are aviable if you make something cool\n",
    "\n",
    "## List and Dictonaries 0.25\n",
    "-  Make your game example with list and dictonaires\n",
    "    - Extra points are aviable if you make something cool"
   ]
  }
 ],
 "metadata": {
  "kernelspec": {
   "display_name": "base",
   "language": "python",
   "name": "python3"
  },
  "language_info": {
   "codemirror_mode": {
    "name": "ipython",
    "version": 3
   },
   "file_extension": ".py",
   "mimetype": "text/x-python",
   "name": "python",
   "nbconvert_exporter": "python",
   "pygments_lexer": "ipython3",
   "version": "3.9.12"
  },
  "orig_nbformat": 4
 },
 "nbformat": 4,
 "nbformat_minor": 2
}
