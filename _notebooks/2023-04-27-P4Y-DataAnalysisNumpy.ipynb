{
 "cells": [
  {
   "attachments": {},
   "cell_type": "markdown",
   "metadata": {},
   "source": [
    "#  P4-Y 4/27 Data Analysis\n",
    "> Data Analysis using Numpy and Pandas\n",
    "\n",
    "- toc: true\n",
    "- badges: false\n",
    "- comments: true\n",
    "- author: Caleb Navarro, Eli Gilmur, Mati Danish, Khalid Farah, AJ Ruiz, Luke Angelini, Jame Armstrong, Shreyas Sarurkar\n",
    "- categories: [student]\n",
    "- type: ap\n",
    "- week: 31"
   ]
  },
  {
   "attachments": {},
   "cell_type": "markdown",
   "metadata": {},
   "source": [
    "# Overview \n",
    "\n",
    "- Teach about Data Analysis, predicitive Analysis, Tenser Flow, Pandas, Numpy\n",
    "\n",
    "# Topics\n",
    "\n",
    "- Data Analysis including Numpy and Pandas (Big Idea 2). Learn something that is a hot technlogy.\n",
    "    - Data Analysis\n",
    "    - Predcitive Analysis\n",
    "    - Tenser Flow\n",
    "    - Pandas\n",
    "    - Numpy\n",
    "\n",
    "# Plan for Lesson\n",
    "\n",
    "- Definitions of each topic\n",
    "- Examples of both that show how it's used in the real world\n",
    "- Practice problems that everyone needs to participate in \n",
    "( candy for correct answers )\n",
    "\n",
    "# Plan for Hacks\n",
    "\n",
    "- Practice problems ( Also create your own )\n",
    "- Create a diagram showing what you have learned about the topics above\n",
    "- Notes of each question answered\n",
    "\n",
    "# Grading \n",
    "\n",
    "- 0.4 for the Diagram\n",
    "- 0.3 for Practice Problems\n",
    "- 0.2 for Notes\n",
    "- 0.1 for extra credit \n",
    "( Still figuring out what we are going to do for extra credit)\n",
    "\n"
   ]
  }
 ],
 "metadata": {
  "language_info": {
   "name": "python"
  },
  "orig_nbformat": 4
 },
 "nbformat": 4,
 "nbformat_minor": 2
}
