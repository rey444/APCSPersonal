{
 "cells": [
  {
   "attachments": {},
   "cell_type": "markdown",
   "metadata": {},
   "source": [
    "# P5-Y 4/21 Binary Math Lesson Plan\n",
    "> Applying binary math and operationsto real-world progamming\n",
    "- toc: true\n",
    "- categories: [student]\n",
    "- badges: false\n",
    "- comments: true\n",
    "- author: Shreya Sapkal, Noor Grewal, Keira Okimoto, Alyssa Ringler, Sabine Sommers, Devon Shepherd\n",
    "- type: ap\n",
    "- week: 30\n"
   ]
  },
  {
   "attachments": {},
   "cell_type": "markdown",
   "metadata": {},
   "source": [
    "## Vocab and Notes:\n",
    "- Logic gates (AND, OR, NOR, NAND)\n",
    "- Binary conversion\n",
    "- Bitwise operations\n",
    "- Binary search\n",
    "- Huffman coding\n",
    "\n",
    "## In-class practice hacks (2-3)\n",
    "- Logic gate program\n",
    "- String to binary conversion program\n",
    "\n",
    "## Homework hacks (1-2)\n",
    "- Binary calculator conversion\n",
    "- Huffman coding program"
   ]
  }
 ],
 "metadata": {
  "language_info": {
   "name": "python"
  },
  "orig_nbformat": 4
 },
 "nbformat": 4,
 "nbformat_minor": 2
}
