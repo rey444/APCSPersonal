{
 "cells": [
  {
   "attachments": {},
   "cell_type": "markdown",
   "metadata": {},
   "source": [
    "# P4-Y 4/25 Guide to SASS \n",
    "> An guide on how to use SASS to build a more customized frontend.\n",
    "- toc: true\n",
    "- comments: true\n",
    "- badges: false\n",
    "- author: Aniket Chakradeo, Ryan Hakimipour, Max Tullius, Jaden Nguyen, Nathan Kim, Kalani Cabral-Omana, Evan Appari, Max Wu, \n",
    "- categories: [student]\n",
    "- type: ap\n",
    "- week: 31"
   ]
  },
  {
   "attachments": {},
   "cell_type": "markdown",
   "metadata": {},
   "source": [
    "# Team Lesson Plan\n",
    "\n",
    "Intro: Introduction to roles and manifesto and what we want students to learn\n",
    "\n",
    "Part 1: SASS Part 1 - Aniket and Nathan\n",
    "\n",
    "Part 2: SASS Part 2 - Evan and Max W \n",
    "\n",
    "Part 3: Building JavaScript Game /Application- Ryan and Jaden\n",
    "\n",
    "Part 4: Hacks Page - Max T and Kalani\n",
    "\n",
    "\n",
    "Intro: Introduction to roles, manifesto, etc.\n",
    "\n",
    "SASS Part 1- Nathan, Aniket\n",
    "- Basic UI Properties and what they mean\n",
    "- Color properties\n",
    "- Themes\n",
    "- SASS Definition/What it is useful for\n",
    "- SASS code segments w/ comparison to css\n",
    "- Demonstration of SASS\n",
    "\n",
    "SASS Part 2- Max W, Aniket, Evan \n",
    "- More UI Properties\n",
    "- UX\n",
    "- Layouts\n",
    "- Animation/animation code for UI\n",
    "\n",
    "Building JavaScript Game or Application- Ryan, Jaden\n",
    "- Before vs After Minesweeper Game - how to customize \n",
    "- Building a java script game and what it requires\n",
    "\n",
    "Hacks Page - Kalani, Max T\n",
    "- Students must create their own hack (simple app,game, etc using key components from the lesson) \n",
    "- Make sure the students can wget the file so they can work on it for their hacks\n"
   ]
  }
 ],
 "metadata": {
  "language_info": {
   "name": "python"
  },
  "orig_nbformat": 4
 },
 "nbformat": 4,
 "nbformat_minor": 2
}
