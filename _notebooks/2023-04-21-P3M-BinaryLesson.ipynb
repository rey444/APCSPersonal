{
 "cells": [
  {
   "attachments": {},
   "cell_type": "markdown",
   "metadata": {},
   "source": [
    "# P3-M 4/21 Binary Overview\n",
    "> A series of binary lessons focusssed on math and conversions.\n",
    "- toc: true\n",
    "- badges: false\n",
    "- comments: true\n",
    "- author: Colin Mills, Aiden Huynh, Toby Leeder, Dash Penning, Ekam Kaire, Ishi Singh, Azeem Khan, Nathan Capule\n",
    "- categories: [student]\n",
    "- type: ap\n",
    "- week: 30"
   ]
  },
  {
   "cell_type": "markdown",
   "metadata": {},
   "source": [
    "## Learning Objectives\n",
    "![CollegeBoard Requirements for Binary](https://user-images.githubusercontent.com/111464932/229885445-65ef56d2-f3d4-43da-aa62-8683e8c0a08b.png)\n",
    "\n",
    "### DAT-1.A: Representing Data with Bits\n",
    "\n",
    "#### Basic Information\n",
    "* Bit is short for ______ digit, and represents a value of either 0 or 1.\n",
    "    - A byte is 8 bits.\n",
    "* Sequences of bits are used to represent different things.\n",
    "    - Representing data with sequences of bits is called ___________.\n",
    "\n",
    "#### Examples\n",
    "* Boolean variables (true or false) are the easiest way to visualize binary.\n",
    "    - 0 = False\n",
    "    - 1 = True\n"
   ]
  },
  {
   "cell_type": "code",
   "execution_count": null,
   "metadata": {},
   "outputs": [],
   "source": [
    "import random\n",
    "\n",
    "def example(runs):\n",
    "    # Repeat code for the amount of runs given\n",
    "    while runs > 0:\n",
    "        # Assigns variable boolean to either True or False based on random binary number 0 or 1.\n",
    "        boolean = False if random.randint(0, 1) == 0 else True \n",
    "\n",
    "        # If the number was 1 (True), it prints \"awesome.\"\n",
    "        if boolean:\n",
    "            print(\"binary is awesome\")\n",
    "            \n",
    "        # If the number was 2 (False), it prints \"cool.\"\n",
    "        else:\n",
    "            print(\"binary is cool\")\n",
    "            \n",
    "        runs -= 1\n",
    "     \n",
    "# Change the parameter to how many times to run the function.   \n",
    "example(10)"
   ]
  },
  {
   "cell_type": "markdown",
   "metadata": {},
   "source": [
    "### DAT-1.B: The Consequences of Using Bits to Represent Data\n",
    "\n",
    "#### Basic Information\n",
    "* Integers are represented by a fixed number of bits, this limits the range of integer values. This limitation can result in ________ or other errors.\n",
    "* Other programming languages allow for abstraction only limited by the computers memory.\n",
    "* Fixed number of bits are used to represent real numbers/limits\n",
    "\n",
    "#### Examples"
   ]
  },
  {
   "cell_type": "code",
   "execution_count": null,
   "metadata": {},
   "outputs": [],
   "source": [
    "import math\n",
    "\n",
    "def exponent(base, power):\n",
    "    # Print the operation performed, turning the parameters into strings to properly concatenate with the symbols \"^\" and \"=\".\n",
    "    print(str(base) + \"^\" + str(power) + \" = \" + str(math.pow(base, power)))\n",
    "\n",
    "# How can function become a problem? (Hint: what happens if you set both base and power equal to high numbers?)\n",
    "exponent(5, 2)\n"
   ]
  },
  {
   "cell_type": "markdown",
   "metadata": {},
   "source": [
    "### DAT-1.C: Binary Math\n",
    "\n",
    "#### Basic Information\n",
    "* Binary is Base 2, meaning it can only represent values between 0 and 1.\n",
    "* Decimal is Base 10, meaning it can represent from 0 to 9.\n",
    "* Conversion between sequences of binary to decimal depend on how many binary numbers there are, their values and their positions.\n",
    "\n",
    "#### Examples\n",
    "* Using 6 bits, we can represent 64 numbers, from 0 to 63, as 2^6 = 64.\n",
    "* The numbers in a sequence of binary go from right to left, increasing by powers of two from 0 to the total amount of bits. The whole number represented is the sum of these bits. For example:\n",
    "    1. 111111\n",
    "    2. 2^5 + 2^4 + 2^3 + 2^2 + 2^1 + 2^0\n",
    "    3. 32 + 16 + 8 + 4 + 2 + 1\n",
    "    4. 63\n",
    "* **Fill in the blanks** (convert to decimal) \n",
    "    1. 001010 = _____\n",
    "    2. 11100010 = _____\n",
    "    3. 10 = _____"
   ]
  },
  {
   "cell_type": "markdown",
   "metadata": {},
   "source": [
    "## Hacks & Grading (Due SUNDAY NIGHT 4/23)\n",
    "* Complete all of the popcorn hacks (Fill in the blanks + run code cells and interact) [0.2 or nothing]\n",
    "* Create a program to conduct basic mathematical operations with binary sequences (addition, subtraction, multiplication, division) [0.7 or nothing]\n",
    "    - For bonus, program must be able to conduct mathematical operations on binary sequences of varying bits (for example: 101 + 1001 would return decimal 14.) [0.1 or nothing]"
   ]
  }
 ],
 "metadata": {
  "language_info": {
   "name": "python"
  },
  "orig_nbformat": 4
 },
 "nbformat": 4,
 "nbformat_minor": 2
}
