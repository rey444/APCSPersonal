{
 "cells": [
  {
   "attachments": {},
   "cell_type": "markdown",
   "metadata": {},
   "source": [
    "# P4-M 4/27 Data Structures Guide\n",
    "> A guide to data structures such as lists, dictionaries, 2D arrays, and iteration\n",
    "  \n",
    "- author: Team EAAR, Ethan Tran, Alex Kumar, Advay Shindikar, Amay Advani, Rohin Sood\n",
    "- toc: true\n",
    "- badges: false\n",
    "- comments: true\n",
    "- categories: [student]\n",
    "- type: ap\n",
    "- week: 31"
   ]
  },
  {
   "attachments": {},
   "cell_type": "markdown",
   "metadata": {},
   "source": [
    "- Estimated Duration: 35 minutes\n",
    "\n",
    "## Objectives:\n",
    "\n",
    "- Students will understand the concept of data structures, including lists, dictionaries, and 2D arrays\n",
    "- Students will learn how to iterate through data structures using loops\n",
    "- Students will be able to visualize data structures and iteration processes\n",
    "- Students will be able to apply their knowledge to build simulations/interactions using lists and iteration\n",
    "- Students will learn how to store list and dictionary content in databases\n",
    "\n",
    "## Introduction (5 min):\n",
    "\n",
    "- Greet the class and introduce the topic of data structures and iteration.\n",
    "- Explain the importance of data structures in computer science and programming.\n",
    "- Show examples of data structures in real-life scenarios, such as grocery lists, phone contacts, or spreadsheets.\n",
    "\n",
    "## Lesson 1: Lists and Iteration (10 min)\n",
    "\n",
    "- Explain the concept of lists and how to create and manipulate them in Python.\n",
    "- Show examples of list operations, such as appending, inserting, and slicing.\n",
    "- Introduce the concept of iteration and how to use loops to iterate through lists.\n",
    "- Show examples of loop structures, such as for and while loops.\n",
    "- Use the code example provided to demonstrate how to spin a wheel using a list and a loop.\n",
    "\n",
    "## Lesson 2: Dictionaries and 2D Arrays (10 min)\n",
    "\n",
    "- Explain the concept of dictionaries and how to create and manipulate them in Python.\n",
    "- Show examples of dictionary operations, such as adding, modifying, and deleting entries.\n",
    "- Introduce the concept of 2D arrays and how to create and access them in Python.\n",
    "- Show examples of 2D array operations, such as indexing and slicing.\n",
    "\n",
    "## Lesson 3: Simulations and Interactions (10 min)\n",
    "\n",
    "- Explain how to use lists and iteration to build simulations and interactions in Python.\n",
    "- Show examples of simulation scenarios, such as rolling dice and flipping coins.\n",
    "- Use the code example provided to demonstrate how to build a spinning wheel simulation using a list and a loop.\n",
    "\n",
    "## Lesson 4: Storing List and Dictionary Content in Databases (5 min)\n",
    "\n",
    "- Explain the concept of databases and how to store data in them.\n",
    "- Show examples of database management software and tools, such as SQLite or MySQL.\n",
    "- Explain how to connect to a database and how to store and retrieve list and dictionary content from it.\n",
    "\n",
    "## Conclusion (5 min):\n",
    "\n",
    "- Recap the main concepts and topics covered in the lesson.\n",
    "- Ask students to share their thoughts, feedback, and questions on the lesson.\n",
    "- Encourage students to continue practicing and exploring data structures and iteration in their own projects and applications.\n",
    "\n",
    "## Hacks (1 point total):\n",
    "\n",
    "- (0.2 points) Students will create a visual to compare lists and dictionaries.\n",
    "- (0.3 points) Students will create their own lists and write code to perform specific operations on them, such as sorting, filtering, or counting elements.\n",
    "- (0.5 points) Students will build their own simulation or interaction using lists and iteration, such as the guessing game and dice roll."
   ]
  }
 ],
 "metadata": {
  "kernelspec": {
   "display_name": "Python 3",
   "language": "python",
   "name": "python3"
  },
  "language_info": {
   "name": "python",
   "version": "3.10.6"
  },
  "orig_nbformat": 4
 },
 "nbformat": 4,
 "nbformat_minor": 2
}
